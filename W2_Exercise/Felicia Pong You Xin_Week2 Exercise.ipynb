{
 "cells": [
  {
   "cell_type": "markdown",
   "metadata": {},
   "source": [
    "# Exercise Tutorial Week 2 - Felicia Pong You Xin"
   ]
  },
  {
   "cell_type": "markdown",
   "metadata": {},
   "source": [
    "1. Find the range of values for each of the following data types:\n",
    "    * `uint8`\n",
    "    * `int8`\n",
    "    * `uint32`\n",
    "    * `int32`"
   ]
  },
  {
   "cell_type": "code",
   "execution_count": 1,
   "metadata": {},
   "outputs": [],
   "source": [
    "import numpy as np"
   ]
  },
  {
   "cell_type": "code",
   "execution_count": 2,
   "metadata": {},
   "outputs": [
    {
     "name": "stdout",
     "output_type": "stream",
     "text": [
      "Range of: \n",
      "uint8 : 0 to 255\n",
      "int8 : -128 to 127\n",
      "uint32 : 0 to 4294967295\n",
      "int32 : -2147483648 to 2147483647\n"
     ]
    }
   ],
   "source": [
    "#uint8\n",
    "uint8_min = np.iinfo(np.uint8).min\n",
    "uint8_max = np.iinfo(np.uint8).max\n",
    "\n",
    "#int8\n",
    "int8_min = np.iinfo(np.int8).min\n",
    "int8_max = np.iinfo(np.int8).max\n",
    "\n",
    "#uint32\n",
    "uint32_min = np.iinfo(np.uint32).min\n",
    "uint32_max = np.iinfo(np.uint32).max\n",
    "\n",
    "#int32\n",
    "int32_min = np.iinfo(np.int32).min\n",
    "int32_max = np.iinfo(np.int32).max\n",
    "\n",
    "# Print the range of value\n",
    "print(\"Range of: \")\n",
    "print(f\"uint8 : {uint8_min} to {uint8_max}\")\n",
    "print(f\"int8 : {int8_min} to {int8_max}\")\n",
    "print(f\"uint32 : {uint32_min} to {uint32_max}\")\n",
    "print(f\"int32 : {int32_min} to {int32_max}\")"
   ]
  },
  {
   "cell_type": "markdown",
   "metadata": {},
   "source": [
    "2. Try to write a simple custom function to determine whether a given integer is odd or even number."
   ]
  },
  {
   "cell_type": "code",
   "execution_count": 4,
   "metadata": {},
   "outputs": [
    {
     "name": "stdout",
     "output_type": "stream",
     "text": [
      "Enter an integer: 7\n",
      "7 is odd number\n"
     ]
    }
   ],
   "source": [
    "def oddoreven():\n",
    "    \n",
    "    #input an integer for testing\n",
    "    num = int(input(\"Enter an integer: \"))\n",
    "    \n",
    "    # Determine whether odd or even\n",
    "    if num % 2 == 0:\n",
    "        print(f\"{num} is even number\")\n",
    "        \n",
    "    else:\n",
    "        print(f\"{num} is odd number\")\n",
    "        \n",
    "\n",
    "oddoreven()"
   ]
  },
  {
   "cell_type": "markdown",
   "metadata": {},
   "source": [
    "3. Write a simple example code to show that Numpy is more efficient in numerical computation of large arrays of data than equivalent Python list."
   ]
  },
  {
   "cell_type": "code",
   "execution_count": 6,
   "metadata": {},
   "outputs": [
    {
     "name": "stdout",
     "output_type": "stream",
     "text": [
      "Time taken using Python lists is 0.10195 seconds\n",
      "Time taken using NumPy arrays is 0.00200 seconds\n"
     ]
    }
   ],
   "source": [
    "import time\n",
    "\n",
    "size = 10**6\n",
    "\n",
    "#python lists\n",
    "list1 = list(range(size))\n",
    "list2 = list(range(size))\n",
    "\n",
    "#numpy arrays\n",
    "array1 = np.arange(size)\n",
    "array2 = np.arange(size)\n",
    "\n",
    "#Measure the time taken for element-wise addition\n",
    "#using python lists\n",
    "start_time = time.time()\n",
    "list_sum = [a + b for a, b in zip(list1, list2)]\n",
    "list_time = time.time() - start_time\n",
    "\n",
    "#using numpy arrays\n",
    "start_time = time.time()\n",
    "array_sum = array1 + array2\n",
    "array_time = time.time() - start_time\n",
    "\n",
    "print(f\"Time taken using Python lists is {list_time:.5f} seconds\")\n",
    "print(f\"Time taken using NumPy arrays is {array_time:.5f} seconds\")"
   ]
  },
  {
   "cell_type": "markdown",
   "metadata": {},
   "source": [
    "4. Run the following codes:\n",
    "```python\n",
    "    # create a 1D array\n",
    "    my_arr = np.arange(10)\n",
    "    print(\"Initial my_arr: \", my_arr)\n",
    "    arr_slice = my_arr\n",
    "    print(\"Initial arr_slice: \", arr_slice)\n",
    "\n",
    "    # change the first element of arr_slice\n",
    "    arr_slice[0] = 55\n",
    "\n",
    "    print(\"my_arr: \", my_arr)\n",
    "    print(\"arr_slice: \", arr_slice)\n",
    "```\n",
    "\n",
    "What do you notice? Propose a way to reassign `arr_slice` with new value **without modifying** `my_arr`."
   ]
  },
  {
   "cell_type": "code",
   "execution_count": 7,
   "metadata": {},
   "outputs": [
    {
     "name": "stdout",
     "output_type": "stream",
     "text": [
      "Initial my_arr:  [0 1 2 3 4 5 6 7 8 9]\n",
      "Initial arr_slice:  [0 1 2 3 4 5 6 7 8 9]\n",
      "my_arr:  [0 1 2 3 4 5 6 7 8 9]\n",
      "arr_slice:  [55  1  2  3  4  5  6  7  8  9]\n"
     ]
    }
   ],
   "source": [
    "# create a 1D array\n",
    "my_arr = np.arange(10)\n",
    "print(\"Initial my_arr: \", my_arr) \n",
    "\n",
    "#the copy method allow us to modify value without changing the value of my_arr\n",
    "arr_slice = my_arr.copy()\n",
    "\n",
    "print(\"Initial arr_slice: \", arr_slice)  \n",
    "\n",
    "# change the first element of arr_slice\n",
    "arr_slice[0] = 55\n",
    "\n",
    "print(\"my_arr: \", my_arr)  \n",
    "print(\"arr_slice: \", arr_slice) "
   ]
  },
  {
   "cell_type": "markdown",
   "metadata": {},
   "source": [
    "5. Create an image as shown as the following with the help of Numpy and matplotlib modules. You can arbitrarily set the dimension of the image and white circular spot at the middle.\n",
    "\n",
    "![image.png](attachment:5d4026b2-6b16-4515-8e03-3065096fa0e8.png)"
   ]
  },
  {
   "cell_type": "code",
   "execution_count": 8,
   "metadata": {},
   "outputs": [],
   "source": [
    "import matplotlib.pyplot as plt"
   ]
  },
  {
   "cell_type": "code",
   "execution_count": 10,
   "metadata": {},
   "outputs": [
    {
     "data": {
      "image/png": "[encoded data removed]",
      "text/plain": [
       "<Figure size 432x288 with 1 Axes>"
      ]
     },
     "metadata": {
      "needs_background": "light"
     },
     "output_type": "display_data"
    }
   ],
   "source": [
    "#create a black image\n",
    "height, width = 200, 200\n",
    "image = np.zeros((height, width), dtype=np.uint8)\n",
    "\n",
    "#create a white circle\n",
    "mask = distance_from_center <= radius\n",
    "image[mask] = 255\n",
    "\n",
    "#center and radius of the white circular spot\n",
    "center = (height // 2, width // 2)\n",
    "radius = 50\n",
    "\n",
    "#create grid of (x, y) coordinates\n",
    "y, x = np.ogrid[:height, :width]\n",
    "\n",
    "#calculate the distance of all points from the center\n",
    "distance_from_center = np.sqrt((x - center[1])**2 + (y - center[0])**2)\n",
    "\n",
    "#to display the image\n",
    "plt.imshow(image, cmap='gray')\n",
    "plt.axis('off')\n",
    "plt.show()"
   ]
  },
  {
   "cell_type": "code",
   "execution_count": null,
   "metadata": {},
   "outputs": [],
   "source": []
  }
 ],
 "metadata": {
  "kernelspec": {
   "display_name": "Python 3",
   "language": "python",
   "name": "python3"
  },
  "language_info": {
   "codemirror_mode": {
    "name": "ipython",
    "version": 3
   },
   "file_extension": ".py",
   "mimetype": "text/x-python",
   "name": "python",
   "nbconvert_exporter": "python",
   "pygments_lexer": "ipython3",
   "version": "3.8.5"
  }
 },
 "nbformat": 4,
 "nbformat_minor": 4
}
