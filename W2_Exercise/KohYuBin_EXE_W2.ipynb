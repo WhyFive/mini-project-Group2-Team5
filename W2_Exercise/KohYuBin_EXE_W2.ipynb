{
 "cells": [
  {
   "cell_type": "markdown",
   "id": "7fcd2ef6-b4ac-48a7-8607-95ecc5037f2c",
   "metadata": {},
   "source": [
    "## Exercises (Koh Yu Bin)\n",
    "1. Find the range of values for each of the following data types:\n",
    "    * `uint8`\n",
    "    * `int8`\n",
    "    * `uint32`\n",
    "    * `int32`\n",
    "2. Try to write a simple custom function to determine whether a given integer is odd or even number.\n",
    "3. Write a simple example code to show that Numpy is more efficient in numerical computation of large arrays of data than equivalent Python list.\n",
    "4. Run the following codes:\n",
    "```python\n",
    "    # create a 1D array\n",
    "    my_arr = np.arange(10)\n",
    "    print(\"Initial my_arr: \", my_arr)\n",
    "    arr_slice = my_arr\n",
    "    print(\"Initial arr_slice: \", arr_slice)\n",
    "\n",
    "    # change the first element of arr_slice\n",
    "    arr_slice[0] = 55\n",
    "\n",
    "    print(\"my_arr: \", my_arr)\n",
    "    print(\"arr_slice: \", arr_slice)\n",
    "```\n",
    "\n",
    "What do you notice? Propose a way to reassign `arr_slice` with new value **without modifying** `my_arr`.\n",
    "\n",
    "5. Create an image as shown as the following with the help of Numpy and matplotlib modules. You can arbitrarily set the dimension of the image and white circular spot at the middle.\n",
    "\n",
    "![image.png](attachment:5d4026b2-6b16-4515-8e03-3065096fa0e8.png)"
   ]
  },
  {
   "cell_type": "code",
   "execution_count": 1,
   "id": "3abc91d0-3ffa-487c-995e-41ebbdf077e6",
   "metadata": {},
   "outputs": [
    {
     "data": {
      "text/plain": [
       "{'uint8': (0, 255),\n",
       " 'int8': (-128, 127),\n",
       " 'uint32': (0, 4294967295),\n",
       " 'int32': (-2147483648, 2147483647)}"
      ]
     },
     "execution_count": 1,
     "metadata": {},
     "output_type": "execute_result"
    }
   ],
   "source": [
    "#1\n",
    "import numpy as np\n",
    "\n",
    "data_types = {\n",
    "    \"uint8\": np.iinfo(np.uint8),\n",
    "    \"int8\": np.iinfo(np.int8),\n",
    "    \"uint32\": np.iinfo(np.uint32),\n",
    "    \"int32\": np.iinfo(np.int32)\n",
    "}\n",
    "\n",
    "ranges = {dtype: (info.min, info.max) for dtype, info in data_types.items()}\n",
    "ranges\n"
   ]
  },
  {
   "cell_type": "code",
   "execution_count": 2,
   "id": "a6c48c02-6cab-4636-acd9-7150c30a04d3",
   "metadata": {},
   "outputs": [],
   "source": [
    "#2\n",
    "def is_odd_or_even(number):\n",
    "    \"\"\"\n",
    "    Determines whether a given integer is odd or even.\n",
    "    \n",
    "    Args:\n",
    "    number : The integer to check.\n",
    "    \n",
    "    Returns:\n",
    "    str: \"Odd\" if the number is odd, \"Even\" if the number is even.\n",
    "    \"\"\"\n",
    "    try:\n",
    "        num = int(number)\n",
    "        return \"Odd\" if num % 2 != 0 else \"Even\"\n",
    "    except ValueError:\n",
    "        return \"Error: The input must be an integer.\"\n",
    "    except TypeError:\n",
    "        return \"Error: Invalid input type.\""
   ]
  },
  {
   "cell_type": "code",
   "execution_count": 3,
   "id": "665b90c9-220b-48cb-8985-eabb1dcaf6a2",
   "metadata": {},
   "outputs": [
    {
     "data": {
      "text/plain": [
       "(0.0019931793212890625, 0.06290030479431152)"
      ]
     },
     "execution_count": 3,
     "metadata": {},
     "output_type": "execute_result"
    }
   ],
   "source": [
    "#3\n",
    "import time\n",
    "\n",
    "# Define a large size for comparison\n",
    "size = 10**6\n",
    "\n",
    "# Create large arrays\n",
    "np_array = np.arange(size)\n",
    "py_list = list(range(size))\n",
    "\n",
    "# Timing Numpy array operation (e.g., element-wise square)\n",
    "start_time_np = time.time()\n",
    "np_result = np_array ** 2\n",
    "time_np = time.time() - start_time_np\n",
    "\n",
    "# Timing Python list operation (e.g., element-wise square)\n",
    "start_time_py = time.time()\n",
    "py_result = [x ** 2 for x in py_list]\n",
    "time_py = time.time() - start_time_py\n",
    "\n",
    "time_np, time_py"
   ]
  },
  {
   "cell_type": "code",
   "execution_count": 8,
   "id": "22a661be-a21f-4b8a-9c3b-0c781894577a",
   "metadata": {},
   "outputs": [
    {
     "name": "stdout",
     "output_type": "stream",
     "text": [
      "Initial my_arr:  [0 1 2 3 4 5 6 7 8 9]\n",
      "Initial arr_slice:  [0 1 2 3 4 5 6 7 8 9]\n",
      "my_arr:  [0 1 2 3 4 5 6 7 8 9]\n",
      "arr_slice:  [55  1  2  3  4  5  6  7  8  9]\n"
     ]
    }
   ],
   "source": [
    "#4\n",
    "# Initial array creation\n",
    "my_arr = np.arange(10)\n",
    "print(\"Initial my_arr: \", my_arr)\n",
    "\n",
    "# Creating a slice as a copy of the array\n",
    "arr_slice = my_arr.copy()\n",
    "print(\"Initial arr_slice: \", arr_slice)\n",
    "\n",
    "# Modifying the slice\n",
    "arr_slice[0] = 55\n",
    "\n",
    "# Printing the arrays after modification\n",
    "print(\"my_arr: \", my_arr)\n",
    "print(\"arr_slice: \", arr_slice)"
   ]
  },
  {
   "cell_type": "code",
   "execution_count": 11,
   "id": "8304acb6-4486-47b6-923d-6f7ed59443bd",
   "metadata": {},
   "outputs": [
    {
     "data": {
      "image/png": "[encoded data removed]",
      "text/plain": [
       "<Figure size 640x480 with 1 Axes>"
      ]
     },
     "metadata": {},
     "output_type": "display_data"
    }
   ],
   "source": [
    "#5\n",
    "import matplotlib.pyplot as plt\n",
    "\n",
    "# Define the dimensions of the image\n",
    "image_size = 200  # The image will be 200x200 pixels\n",
    "radius = 40       # The radius of the white circle\n",
    "\n",
    "# Create a black square image\n",
    "image = np.zeros((image_size, image_size))\n",
    "\n",
    "# Calculate the center of the image\n",
    "center_x, center_y = image_size // 2, image_size // 2\n",
    "\n",
    "# Create a grid of coordinates\n",
    "y, x = np.ogrid[:image_size, :image_size]\n",
    "\n",
    "# Create the mask for the circle\n",
    "mask = (x - center_x)**2 + (y - center_y)**2 <= radius**2\n",
    "\n",
    "# Apply the mask to create a white circle in the middle\n",
    "image[mask] = 1  # Set the pixels within the circle to 1 \n",
    "\n",
    "# Plot the image\n",
    "plt.imshow(image, cmap='gray')\n",
    "plt.axis('off')  \n",
    "plt.show()"
   ]
  }
 ],
 "metadata": {
  "kernelspec": {
   "display_name": "Python 3 (ipykernel)",
   "language": "python",
   "name": "python3"
  },
  "language_info": {
   "codemirror_mode": {
    "name": "ipython",
    "version": 3
   },
   "file_extension": ".py",
   "mimetype": "text/x-python",
   "name": "python",
   "nbconvert_exporter": "python",
   "pygments_lexer": "ipython3",
   "version": "3.12.4"
  }
 },
 "nbformat": 4,
 "nbformat_minor": 5
}
