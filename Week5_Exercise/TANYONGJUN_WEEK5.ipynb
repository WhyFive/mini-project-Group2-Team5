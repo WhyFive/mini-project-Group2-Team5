{
 "cells": [
  {
   "cell_type": "code",
   "execution_count": 7,
   "id": "3f8d2018-2ce2-4c6d-834e-4712f7f534cc",
   "metadata": {},
   "outputs": [
    {
     "data": {
      "text/plain": [
       "True"
      ]
     },
     "execution_count": 7,
     "metadata": {},
     "output_type": "execute_result"
    }
   ],
   "source": [
    "import sys\n",
    "assert sys.version_info >= (3, 8)\n",
    "\n",
    "import cv2 as cv\n",
    "import numpy as np\n",
    "import imutils\n",
    "\n",
    "if not cv.useOptimized():\n",
    "    cv.setUseOptimized(True)\n",
    "\n",
    "cv.useOptimized()"
   ]
  },
  {
   "cell_type": "code",
   "execution_count": 48,
   "id": "8d403976-33e4-4051-85fa-97b5423f0c15",
   "metadata": {},
   "outputs": [],
   "source": [
    "# q1\n",
    "# Load the image\n",
    "image = cv.imread('images/lena.jfif')\n",
    "\n",
    "# Rotate the image without cropping by expanding the canvas\n",
    "rotated = imutils.rotate_bound(image, 45)\n",
    "\n",
    "cv.imshow('Rotated Image - Expand Canvas', rotated)\n",
    "cv.waitKey(0)\n",
    "cv.destroyAllWindows()\n"
   ]
  },
  {
   "cell_type": "code",
   "execution_count": 47,
   "id": "0ba169d2-095d-4d09-9870-901af7368ef5",
   "metadata": {},
   "outputs": [
    {
     "data": {
      "text/plain": [
       "-1"
      ]
     },
     "execution_count": 47,
     "metadata": {},
     "output_type": "execute_result"
    }
   ],
   "source": [
    "# q1\n",
    "# Load the original image\n",
    "image = cv.imread('images/lena.jfif')\n",
    "\n",
    "# Define the rotation angle and the scaling factor\n",
    "angle = 45\n",
    "scale_factor = 1.0\n",
    "\n",
    "# Get the image dimensions\n",
    "(h, w) = image.shape[:2]\n",
    "\n",
    "# Get the center point for rotation\n",
    "center = (w // 2, h // 2)\n",
    "\n",
    "# Create an affine transformation matrix for rotation\n",
    "M = cv.getRotationMatrix2D(center, angle, scale_factor)\n",
    "\n",
    "# Apply the affine transformation matrix to rotate the image\n",
    "rotated_image = cv.warpAffine(image, M, (w, h))\n",
    "\n",
    "cv.imshow('Rotated Image', rotated_image)\n",
    "cv.waitKey(0)"
   ]
  },
  {
   "cell_type": "code",
   "execution_count": 46,
   "id": "f1ff4324-a791-40db-a91a-affd77c21842",
   "metadata": {},
   "outputs": [],
   "source": [
    "# q2\n",
    "# Load the images\n",
    "bee_image = cv.imread('images/native-bee.png')\n",
    "flower_image = cv.imread('images/flower.jfif')\n",
    "\n",
    "# Resize the flower image to fit onto the bee image if necessary\n",
    "flower_image = cv.resize(flower_image, (bee_image.shape[1], bee_image.shape[0]))\n",
    "\n",
    "# Convert the flower image to grayscale\n",
    "flower_gray = cv.cvtColor(flower_image, cv2.COLOR_BGR2GRAY)\n",
    "\n",
    "# Create a binary mask where white represents the flower\n",
    "_, mask = cv.threshold(flower_gray, 1, 255, cv2.THRESH_BINARY)\n",
    "\n",
    "# Invert the mask to get the background\n",
    "mask_inv = cv.bitwise_not(mask)\n",
    "\n",
    "# Black out the area of the flower in the bee image using the inverted mask\n",
    "bee_bg = cv.bitwise_and(bee_image, bee_image, mask=mask_inv)\n",
    "\n",
    "# Take only the region of the flower from the flower image\n",
    "flower_fg = cv.bitwise_and(flower_image, flower_image, mask=mask)\n",
    "\n",
    "# Add the flower to the bee image\n",
    "result = cv.add(bee_bg, flower_fg)\n",
    "\n",
    "# Display the result\n",
    "cv.imshow('Bee and Flower', result)\n",
    "cv.waitKey(0)\n",
    "cv.destroyAllWindows()\n"
   ]
  },
  {
   "cell_type": "code",
   "execution_count": 45,
   "id": "7dfe777c-fd90-4b06-9644-ad6d7b5e52b4",
   "metadata": {},
   "outputs": [],
   "source": [
    "# q2\n",
    "# Load the images\n",
    "bee_image = cv.imread('images/native-bee.png')\n",
    "flower_image = cv.imread('images/flower.jfif')\n",
    "\n",
    "assert bee_image is not None, \"Bee image could not be read, check the file path.\"\n",
    "assert flower_image is not None, \"Flower image could not be read, check the file path.\"\n",
    "\n",
    "# I want to put logo on top-left corner, So I create a ROI\n",
    "rows,cols,channels = flower_image.shape\n",
    "roi = bee_image[0:rows, 0:cols]\n",
    " \n",
    "# Now create a mask of logo and create its inverse mask also\n",
    "flower_imagegray = cv.cvtColor(flower_image,cv.COLOR_BGR2GRAY)\n",
    "ret, mask = cv.threshold(flower_imagegray, 10, 255, cv.THRESH_BINARY)\n",
    "mask_inv = cv.bitwise_not(mask)\n",
    " \n",
    "# Now black-out the area of logo in ROI\n",
    "bee_image_bg = cv.bitwise_and(roi,roi,mask = mask_inv)\n",
    " \n",
    "# Take only region of logo from logo image.\n",
    "flower_image_fg = cv.bitwise_and(flower_image,flower_image,mask = mask)\n",
    " \n",
    "# Put logo in ROI and modify the main image\n",
    "dst = cv.add(bee_image_bg,flower_image_fg)\n",
    "bee_image[0:rows, 0:cols ] = dst\n",
    " \n",
    "cv.imshow('res',bee_image)\n",
    "cv.waitKey(0)\n",
    "cv.destroyAllWindows()\n"
   ]
  },
  {
   "cell_type": "code",
   "execution_count": 44,
   "id": "d6e55e10-0c15-46e5-b76b-f3c8bfcc45d9",
   "metadata": {},
   "outputs": [],
   "source": [
    "# salt pepper noise\n",
    "import random\n",
    "\n",
    "def add_salt_and_pepper_noise(image, salt_prob, pepper_prob):\n",
    "    noisy_image = np.copy(image)\n",
    "    \n",
    "    # Add salt noise\n",
    "    num_salt = np.ceil(salt_prob * image.size).astype(int)\n",
    "    coords = [np.random.randint(0, i - 1, num_salt) for i in image.shape]\n",
    "    noisy_image[coords[0], coords[1], :] = 255\n",
    "    \n",
    "    # Add pepper noise\n",
    "    num_pepper = np.ceil(pepper_prob * image.size).astype(int)\n",
    "    coords = [np.random.randint(0, i - 1, num_pepper) for i in image.shape]\n",
    "    noisy_image[coords[0], coords[1], :] = 0\n",
    "    \n",
    "    return noisy_image\n",
    "\n",
    "# Load the image\n",
    "image = cv.imread('images/lena.jfif')\n",
    "\n",
    "# Define the probabilities for salt and pepper noise\n",
    "salt_prob = 0.05\n",
    "pepper_prob = 0.05\n",
    "\n",
    "# Add salt and pepper noise to the image\n",
    "noisy_image = add_salt_and_pepper_noise(image, salt_prob, pepper_prob)\n",
    "\n",
    "# Display the original and noisy images\n",
    "cv.imshow('Original Image', image)\n",
    "cv.imshow('Salt and Pepper Noise', noisy_image)\n",
    "cv.waitKey(0)\n",
    "cv.destroyAllWindows()\n"
   ]
  },
  {
   "cell_type": "code",
   "execution_count": 43,
   "id": "6b2f920b-13ef-4db0-8bcb-fb0bc6204c36",
   "metadata": {},
   "outputs": [],
   "source": [
    "# poison noise\n",
    "def add_poisson_noise(image):\n",
    "    # Ensure the image has values between 0 and 1\n",
    "    image = image / 255.0\n",
    "    \n",
    "    # Apply Poisson noise\n",
    "    noisy_image = np.random.poisson(image * 255.0) / 255.0\n",
    "    \n",
    "    # Clip values to be in the range [0, 1]\n",
    "    noisy_image = np.clip(noisy_image, 0, 1)\n",
    "    \n",
    "    # Convert back to 8-bit format\n",
    "    noisy_image = (noisy_image * 255).astype(np.uint8)\n",
    "    \n",
    "    return noisy_image\n",
    "\n",
    "# Load the image\n",
    "image = cv.imread('images/lena.jfif')\n",
    "\n",
    "# Add Poisson noise to the image\n",
    "noisy_image = add_poisson_noise(image)\n",
    "\n",
    "# Display the original and noisy images\n",
    "cv.imshow('Original Image', image)\n",
    "cv.imshow('Poisson Noise', noisy_image)\n",
    "cv.waitKey(0)\n",
    "cv.destroyAllWindows()\n"
   ]
  },
  {
   "cell_type": "code",
   "execution_count": null,
   "id": "ce0a1237-d81e-4ea9-a7fb-ba5e7a398b2f",
   "metadata": {},
   "outputs": [],
   "source": []
  }
 ],
 "metadata": {
  "kernelspec": {
   "display_name": "Python 3 (ipykernel)",
   "language": "python",
   "name": "python3"
  },
  "language_info": {
   "codemirror_mode": {
    "name": "ipython",
    "version": 3
   },
   "file_extension": ".py",
   "mimetype": "text/x-python",
   "name": "python",
   "nbconvert_exporter": "python",
   "pygments_lexer": "ipython3",
   "version": "3.12.4"
  }
 },
 "nbformat": 4,
 "nbformat_minor": 5
}
