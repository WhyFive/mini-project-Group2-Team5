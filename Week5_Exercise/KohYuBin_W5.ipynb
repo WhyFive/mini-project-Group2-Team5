{
 "cells": [
  {
   "cell_type": "markdown",
   "id": "53b1938e-f4e2-4603-9159-84f30e770797",
   "metadata": {},
   "source": [
    "# Weekly activity\n",
    "1. Rotate image by 45 degrees without cropping the sides of the image. (Hint: There are 2 strategies to tackle these problems). Use _\"lena.jfif\"_ as the input image.\n",
    "    - Use external libraries `imutils`.  \n",
    "    - Modify the transformation matrix.\n",
    "2. Use the images with titles: _\"flower.jfif\"_ and _\"native-bee.png\"_. I want to put flower above an image. If I add two images, it will change color. If I blend it, I get a transparent effect. But I want it to be opaque. If it was a rectangular region, we could use the ROI as we did in the previous section. But flower is not a rectangular region. This is where bitwise operations, like AND, OR, NOT and XOR really come in handy. The associated functions are `cv.bitwise_and()`, `cv.bitwise_or()` and `cv.bitwise_not()`. You need to use `cv.threshold` function to segment the flower. Please refer to [online documentation](https://docs.opencv.org/4.x/d0/d86/tutorial_py_image_arithmetics.html) for more info. The result should resemble the following:  \n",
    "![bee and flowers](img_embed/activity3.PNG \"bee_flower\")\n",
    "3. Write a function that randomly crop the central region of an image. The method signature should be as shown in the following:\n",
    "```\n",
    "random_center_crop(image, min_crop_ratio, max_crop_ratio)\n",
    "```\n",
    "\n",
    "4. Aside from Gaussian noise, name another common type of noise. Write the code to demonstrate how the noise can be included in an image."
   ]
  },
  {
   "cell_type": "code",
   "execution_count": 5,
   "id": "949981ac-032d-44fa-a8f8-c20a6fe528a3",
   "metadata": {
    "scrolled": true
   },
   "outputs": [
    {
     "name": "stdout",
     "output_type": "stream",
     "text": [
      "Requirement already satisfied: imutils in c:\\users\\kohyu\\appdata\\local\\programs\\python\\python312\\lib\\site-packages (0.5.4)\n"
     ]
    },
    {
     "name": "stderr",
     "output_type": "stream",
     "text": [
      "\n",
      "[notice] A new release of pip is available: 24.0 -> 24.1.2\n",
      "[notice] To update, run: python.exe -m pip install --upgrade pip\n"
     ]
    },
    {
     "ename": "ImportError",
     "evalue": "cannot import name 'display_image' from 'utils' (C:\\Users\\kohyu\\AppData\\Local\\Programs\\Python\\Python312\\Lib\\site-packages\\utils\\__init__.py)",
     "output_type": "error",
     "traceback": [
      "\u001b[1;31m---------------------------------------------------------------------------\u001b[0m",
      "\u001b[1;31mImportError\u001b[0m                               Traceback (most recent call last)",
      "Cell \u001b[1;32mIn[5], line 2\u001b[0m\n\u001b[0;32m      1\u001b[0m get_ipython()\u001b[38;5;241m.\u001b[39msystem(\u001b[38;5;124m'\u001b[39m\u001b[38;5;124mpip install imutils\u001b[39m\u001b[38;5;124m'\u001b[39m)\n\u001b[1;32m----> 2\u001b[0m \u001b[38;5;28;01mfrom\u001b[39;00m \u001b[38;5;21;01mutils\u001b[39;00m \u001b[38;5;28;01mimport\u001b[39;00m display_image, display_images\n",
      "\u001b[1;31mImportError\u001b[0m: cannot import name 'display_image' from 'utils' (C:\\Users\\kohyu\\AppData\\Local\\Programs\\Python\\Python312\\Lib\\site-packages\\utils\\__init__.py)"
     ]
    }
   ],
   "source": [
    "!pip install imutils\n",
    "from utils import display_image, display_images"
   ]
  },
  {
   "cell_type": "code",
   "execution_count": 12,
   "id": "c57ffdb8-9c3d-4c25-85eb-f4711eefcb7c",
   "metadata": {},
   "outputs": [],
   "source": [
    "# Q1\n",
    "import cv2 as cv\n",
    "import imutils\n",
    "\n",
    "image = cv.imread(\"images/flower.jfif\")\n",
    "\n",
    "# rotate image by 45 degree\n",
    "rotated = imutils.rotate_bound(image, angle=45)\n",
    "\n",
    "display_image(\"Rotate Image\", rotated)"
   ]
  },
  {
   "cell_type": "code",
   "execution_count": 18,
   "id": "f14aaf64-feb1-4416-b3e7-4116eed37d13",
   "metadata": {},
   "outputs": [],
   "source": [
    "# Q1\n",
    "import numpy as np\n",
    "\n",
    "image = cv.imread(\"images/flower.jfif\")\n",
    "\n",
    "# Get image dimensions\n",
    "(h, w) = image.shape[:2]\n",
    "center = (w // 2, h // 2)\n",
    "\n",
    "# Compute the rotation matrix around the center of the image\n",
    "angle = 45\n",
    "scale = 1.0\n",
    "rotation_matrix = cv.getRotationMatrix2D(center, angle, scale)\n",
    "\n",
    "# Determine the new dimensions of the image\n",
    "cos_theta = np.abs(rotation_matrix[0, 0])\n",
    "sin_theta = np.abs(rotation_matrix[0, 1])\n",
    "new_w = int((h * sin_theta) + (w * cos_theta))\n",
    "new_h = int((h * cos_theta) + (w * sin_theta))\n",
    "\n",
    "# Adjust the rotation matrix to take into account translation\n",
    "rotation_matrix[0, 2] += (new_w / 2) - center[0]\n",
    "rotation_matrix[1, 2] += (new_h / 2) - center[1]\n",
    "\n",
    "# Perform the actual rotation\n",
    "rotated = cv.warpAffine(image, rotation_matrix, (new_w, new_h))\n",
    "\n",
    "display_image(\"Rotate Image\", rotated)"
   ]
  },
  {
   "cell_type": "code",
   "execution_count": 19,
   "id": "c9cb03fa-eae4-4364-b8fd-a29f5d8e1203",
   "metadata": {},
   "outputs": [],
   "source": [
    "# Q2\n",
    "# Load the images\n",
    "flower = cv2.imread('images/flower.jfif')\n",
    "bee = cv2.imread('images/native-bee.png')\n",
    "\n",
    "# Convert flower image to grayscale\n",
    "flower_gray = cv2.cvtColor(flower, cv2.COLOR_BGR2GRAY)\n",
    "\n",
    "# Create a binary mask of the flower\n",
    "_, mask = cv2.threshold(flower_gray, 90, 255, cv2.THRESH_BINARY)\n",
    "\n",
    "# Invert the mask\n",
    "mask_inv = cv2.bitwise_not(mask)\n",
    "\n",
    "# Define the region of interest (ROI)\n",
    "rows, cols, _ = flower.shape\n",
    "roi = bee[0:rows, 0:cols]\n",
    "\n",
    "# Black-out the area of the flower in the ROI\n",
    "bee_bg = cv2.bitwise_and(roi, roi, mask=mask_inv)\n",
    "\n",
    "# Take only the flower region from the flower image\n",
    "flower_fg = cv2.bitwise_and(flower, flower, mask=mask)\n",
    "\n",
    "# Place the flower in the ROI and modify the main image\n",
    "dst = cv2.add(bee_bg, flower_fg)\n",
    "bee[0:rows, 0:cols] = dst\n",
    "\n",
    "cv2.imwrite('result.png', bee)\n",
    "\n",
    "display_image('Result', bee)"
   ]
  },
  {
   "cell_type": "code",
   "execution_count": 20,
   "id": "baca02bc-80bd-45e9-abe1-a89bf4636008",
   "metadata": {},
   "outputs": [],
   "source": [
    "# Q3\n",
    "def random_center_crop(image, min_crop_ratio, max_crop_ratio):\n",
    "\n",
    "    if min_crop_ratio >= max_crop_ratio or min_crop_ratio < 0 or max_crop_ratio > 1:\n",
    "        raise ValueError(\"Invalid crop ratio values. min_crop_ratio should be less than max_crop_ratio and between 0.0 and 1.0.\")\n",
    "\n",
    "    height, width = image.shape[:2]\n",
    "\n",
    "    # Calculate crop sizes \n",
    "    min_crop_size = int(min(height, width) * min_crop_ratio)\n",
    "    max_crop_size = int(min(height, width) * max_crop_ratio)\n",
    "\n",
    "    # Randomly select crop size\n",
    "    crop_size = np.random.randint(min_crop_size, max_crop_size + 1)\n",
    "\n",
    "    # Calculate crop region\n",
    "    top = (height - crop_size) // 2\n",
    "    left = (width - crop_size) // 2\n",
    "    bottom = top + crop_size\n",
    "    right = left + crop_size\n",
    "\n",
    "    # Perform crop\n",
    "    cropped_image = image[top:bottom, left:right]\n",
    "\n",
    "    return cropped_image"
   ]
  },
  {
   "cell_type": "code",
   "execution_count": 21,
   "id": "a5474aa5-2118-4dac-8fa3-882e921edda7",
   "metadata": {},
   "outputs": [],
   "source": [
    "# Q4\n",
    "def add_salt_and_pepper_noise(image, amount=0.02):\n",
    "\n",
    "    noisy_image = np.copy(image)\n",
    "\n",
    "    # Generate random positions to add noise\n",
    "    num_pixels = int(amount * image.shape[0] * image.shape[1])\n",
    "    salt_coords = [np.random.randint(0, i - 1, num_pixels) for i in image.shape[:2]]\n",
    "    pepper_coords = [np.random.randint(0, i - 1, num_pixels) for i in image.shape[:2]]\n",
    "\n",
    "    # Add salt noise (white pixels)\n",
    "    noisy_image[salt_coords[0], salt_coords[1]] = 255\n",
    "\n",
    "    # Add pepper noise (black pixels)\n",
    "    noisy_image[pepper_coords[0], pepper_coords[1]] = 0\n",
    "\n",
    "    return noisy_image\n",
    "\n",
    "# Load sample image \n",
    "image = cv2.imread(\"images/alley_night.jpg\")\n",
    "\n",
    "# Add salt and pepper noise\n",
    "noisy_image = add_salt_and_pepper_noise(image, amount=0.02)\n",
    "\n",
    "cv2.imshow('Original Image', image)\n",
    "cv2.imshow('Noisy Image (Salt and Pepper)', noisy_image)\n",
    "cv2.waitKey(0)\n",
    "cv2.destroyAllWindows()"
   ]
  }
 ],
 "metadata": {
  "kernelspec": {
   "display_name": "Python 3 (ipykernel)",
   "language": "python",
   "name": "python3"
  },
  "language_info": {
   "codemirror_mode": {
    "name": "ipython",
    "version": 3
   },
   "file_extension": ".py",
   "mimetype": "text/x-python",
   "name": "python",
   "nbconvert_exporter": "python",
   "pygments_lexer": "ipython3",
   "version": "3.12.4"
  }
 },
 "nbformat": 4,
 "nbformat_minor": 5
}
